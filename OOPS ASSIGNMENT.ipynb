{
 "cells": [
  {
   "cell_type": "markdown",
   "id": "5365102c",
   "metadata": {},
   "source": [
    "# OOPS ASSIGNMENT\n"
   ]
  },
  {
   "cell_type": "markdown",
   "id": "24f80de7",
   "metadata": {},
   "source": [
    "### Challenge 1: Square Numbers and Return Their Sum"
   ]
  },
  {
   "cell_type": "code",
   "execution_count": 4,
   "id": "45896337",
   "metadata": {},
   "outputs": [
    {
     "name": "stdout",
     "output_type": "stream",
     "text": [
      "Enter first number:1\n",
      "Enter second number:3\n",
      "Enter third number:5\n",
      "35\n"
     ]
    }
   ],
   "source": [
    "class Point:\n",
    "    \n",
    "    def __init__(self,x,y,z):\n",
    "        self.x =x \n",
    "        self.y = y\n",
    "        self.z = z\n",
    "        \n",
    "    def sqSum(self,x,y,z):\n",
    "        self.x = self.x*self.x\n",
    "        self.y = self.y*self.y\n",
    "        self.z = self.z*self.z\n",
    "        sum = self.x+self.y+self.z\n",
    "        print(sum)\n",
    "x = int(input(\"Enter first number:\"))\n",
    "y = int(input(\"Enter second number:\"))\n",
    "z = int(input(\"Enter third number:\"))\n",
    "obj = Point(x,y,z)\n",
    "obj.sqSum(x,y,z)\n",
    "    \n",
    "    \n",
    "  "
   ]
  },
  {
   "cell_type": "markdown",
   "id": "e92fead9",
   "metadata": {},
   "source": [
    "### Challenge 2: Implement a Calculator Class"
   ]
  },
  {
   "cell_type": "code",
   "execution_count": 1,
   "id": "3ac6d43c",
   "metadata": {},
   "outputs": [
    {
     "name": "stdout",
     "output_type": "stream",
     "text": [
      "Enter first number: 10\n",
      "Enter second number: 94\n",
      "0. Exit\n",
      "1. Add\n",
      "2. Subtraction\n",
      "3. Multiplication\n",
      "4. Division\n",
      "Enter choice: 1\n",
      "Result:  104\n",
      "0. Exit\n",
      "1. Add\n",
      "2. Subtraction\n",
      "3. Multiplication\n",
      "4. Division\n",
      "Enter choice: 2\n",
      "Result:  -84\n",
      "0. Exit\n",
      "1. Add\n",
      "2. Subtraction\n",
      "3. Multiplication\n",
      "4. Division\n",
      "Enter choice: 3\n",
      "Result:  940\n",
      "0. Exit\n",
      "1. Add\n",
      "2. Subtraction\n",
      "3. Multiplication\n",
      "4. Division\n",
      "Enter choice: 4\n",
      "Result:  0.11\n",
      "0. Exit\n",
      "1. Add\n",
      "2. Subtraction\n",
      "3. Multiplication\n",
      "4. Division\n",
      "Enter choice: 0\n",
      "Exiting!\n",
      "\n"
     ]
    }
   ],
   "source": [
    "class calculator():\n",
    "    def __init__(self,num1,num2):\n",
    "        self.num1=num1\n",
    "        self.num2=num2\n",
    "    def add(self):\n",
    "        return self.num1+self.num2\n",
    "    def mul(self):\n",
    "        return self.num1*self.num2\n",
    "    def div(self):\n",
    "        return self.num1/self.num2\n",
    "    def sub(self):\n",
    "        return self.num1-self.num2\n",
    "a=int(input(\"Enter first number: \"))\n",
    "b=int(input(\"Enter second number: \"))\n",
    "obj=calculator(num1,num2)\n",
    "choice=1\n",
    "while choice!=0:\n",
    "    print(\"0. Exit\")\n",
    "    print(\"1. Add\")\n",
    "    print(\"2. Subtraction\")\n",
    "    print(\"3. Multiplication\")\n",
    "    print(\"4. Division\")\n",
    "    choice=int(input(\"Enter choice: \"))\n",
    "    if choice==1:\n",
    "        print(\"Result: \",obj.add())\n",
    "    elif choice==2:\n",
    "        print(\"Result: \",obj.sub())\n",
    "    elif choice==3:\n",
    "        print(\"Result: \",obj.mul())\n",
    "    elif choice==4:\n",
    "        print(\"Result: \",round(obj.div(),2))\n",
    "    elif choice==0:\n",
    "        print(\"Exiting!\")\n",
    "    else:\n",
    "        print(\"Invalid choice!!\")\n",
    " \n",
    " \n",
    "print()"
   ]
  },
  {
   "cell_type": "markdown",
   "id": "23cd6b6e",
   "metadata": {},
   "source": [
    "### Challenge 3: Implement the Complete Student Class"
   ]
  },
  {
   "cell_type": "code",
   "execution_count": 2,
   "id": "c05c65d5",
   "metadata": {},
   "outputs": [
    {
     "name": "stdout",
     "output_type": "stream",
     "text": [
      "enter the nameAshutosh\n",
      "enter the roll number22\n",
      "Ashutosh\n",
      "22\n",
      "Student Name is Ashutosh\n",
      "Student RollNumber is 22\n"
     ]
    }
   ],
   "source": [
    "class Student:\n",
    "    \n",
    "   \n",
    "    def setName(self,name):\n",
    "        self.__name = name\n",
    "    def getName(self):\n",
    "        return self.__name\n",
    "    def setRollNumber(self,rollnumber):\n",
    "        self.__rollnumber = rollnumber\n",
    "    def getRollNumber(self):\n",
    "        return self.__rollnumber\n",
    "    def Display(self):\n",
    "        print(\"Student Name is\",self.__name)\n",
    "        print(\"Student RollNumber is\", self.__rollnumber)\n",
    "        \n",
    "name = input(\"enter the name\")\n",
    "roll = int(input(\"enter the roll number\"))\n",
    "        \n",
    "obj = Student()\n",
    "obj.setName(name)\n",
    "name=obj.getName()\n",
    "print(name)\n",
    "obj.setRollNumber(roll)\n",
    "rollnumber = obj.getRollNumber()\n",
    "print(rollnumber)\n",
    "obj.Display()"
   ]
  },
  {
   "cell_type": "code",
   "execution_count": null,
   "id": "db862f11",
   "metadata": {},
   "outputs": [],
   "source": []
  }
 ],
 "metadata": {
  "kernelspec": {
   "display_name": "Python 3 (ipykernel)",
   "language": "python",
   "name": "python3"
  },
  "language_info": {
   "codemirror_mode": {
    "name": "ipython",
    "version": 3
   },
   "file_extension": ".py",
   "mimetype": "text/x-python",
   "name": "python",
   "nbconvert_exporter": "python",
   "pygments_lexer": "ipython3",
   "version": "3.9.13"
  }
 },
 "nbformat": 4,
 "nbformat_minor": 5
}
