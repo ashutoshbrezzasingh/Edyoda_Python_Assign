{
 "cells": [
  {
   "cell_type": "markdown",
   "id": "5365102c",
   "metadata": {},
   "source": [
    "# OOPS ASSIGNMENT\n"
   ]
  },
  {
   "cell_type": "markdown",
   "id": "3afb7868",
   "metadata": {},
   "source": [
    "### Challenge 1: Square Numbers and Return Their Sum"
   ]
  },
  {
   "cell_type": "code",
   "execution_count": 3,
   "id": "d4e48a5b",
   "metadata": {},
   "outputs": [
    {
     "name": "stdout",
     "output_type": "stream",
     "text": [
      "Enter first number:1\n",
      "Enter second number:3\n",
      "Enter third number:5\n",
      "35\n"
     ]
    }
   ],
   "source": [
    "class Point:\n",
    "    \n",
    "    def __init__(self,x,y,z):\n",
    "        self.x = x\n",
    "        self.y = y\n",
    "        self.z = z\n",
    "\n",
    "    def sqSum(x,y,z):\n",
    "\n",
    "        x= x*x\n",
    "        y= y*y\n",
    "        z= z*z\n",
    "        return x+y+z\n",
    "    #output   = return True\n",
    "    x = int(input(\"Enter first number:\"))\n",
    "    y = int(input(\"Enter second number:\"))\n",
    "    z = int(input(\"Enter third number:\"))\n",
    "    print(sqSum(x,y,z))\n",
    "    \n",
    "  "
   ]
  },
  {
   "cell_type": "markdown",
   "id": "e1c0cd7e",
   "metadata": {},
   "source": [
    "### Challenge 2: Implement a Calculator Class"
   ]
  },
  {
   "cell_type": "code",
   "execution_count": 1,
   "id": "39c1031a",
   "metadata": {},
   "outputs": [
    {
     "name": "stdout",
     "output_type": "stream",
     "text": [
      "Enter first number: 10\n",
      "Enter second number: 94\n",
      "0. Exit\n",
      "1. Add\n",
      "2. Subtraction\n",
      "3. Multiplication\n",
      "4. Division\n",
      "Enter choice: 1\n",
      "Result:  104\n",
      "0. Exit\n",
      "1. Add\n",
      "2. Subtraction\n",
      "3. Multiplication\n",
      "4. Division\n",
      "Enter choice: 2\n",
      "Result:  -84\n",
      "0. Exit\n",
      "1. Add\n",
      "2. Subtraction\n",
      "3. Multiplication\n",
      "4. Division\n",
      "Enter choice: 3\n",
      "Result:  940\n",
      "0. Exit\n",
      "1. Add\n",
      "2. Subtraction\n",
      "3. Multiplication\n",
      "4. Division\n",
      "Enter choice: 4\n",
      "Result:  0.11\n",
      "0. Exit\n",
      "1. Add\n",
      "2. Subtraction\n",
      "3. Multiplication\n",
      "4. Division\n",
      "Enter choice: 0\n",
      "Exiting!\n",
      "\n"
     ]
    }
   ],
   "source": [
    "class calculator():\n",
    "    def __init__(self,num1,num2):\n",
    "        self.num1=num1\n",
    "        self.num2=num2\n",
    "    def add(self):\n",
    "        return self.num1+self.num2\n",
    "    def mul(self):\n",
    "        return self.num1*self.num2\n",
    "    def div(self):\n",
    "        return self.num1/self.num2\n",
    "    def sub(self):\n",
    "        return self.num1-self.num2\n",
    "a=int(input(\"Enter first number: \"))\n",
    "b=int(input(\"Enter second number: \"))\n",
    "obj=calculator(num1,num2)\n",
    "choice=1\n",
    "while choice!=0:\n",
    "    print(\"0. Exit\")\n",
    "    print(\"1. Add\")\n",
    "    print(\"2. Subtraction\")\n",
    "    print(\"3. Multiplication\")\n",
    "    print(\"4. Division\")\n",
    "    choice=int(input(\"Enter choice: \"))\n",
    "    if choice==1:\n",
    "        print(\"Result: \",obj.add())\n",
    "    elif choice==2:\n",
    "        print(\"Result: \",obj.sub())\n",
    "    elif choice==3:\n",
    "        print(\"Result: \",obj.mul())\n",
    "    elif choice==4:\n",
    "        print(\"Result: \",round(obj.div(),2))\n",
    "    elif choice==0:\n",
    "        print(\"Exiting!\")\n",
    "    else:\n",
    "        print(\"Invalid choice!!\")\n",
    " \n",
    " \n",
    "print()"
   ]
  },
  {
   "cell_type": "markdown",
   "id": "2a27e46c",
   "metadata": {},
   "source": [
    "### Challenge 3: Implement the Complete Student Class"
   ]
  },
  {
   "cell_type": "code",
   "execution_count": null,
   "id": "8ba67d22",
   "metadata": {},
   "outputs": [],
   "source": []
  },
  {
   "cell_type": "code",
   "execution_count": null,
   "id": "3880329c",
   "metadata": {},
   "outputs": [],
   "source": []
  }
 ],
 "metadata": {
  "kernelspec": {
   "display_name": "Python 3 (ipykernel)",
   "language": "python",
   "name": "python3"
  },
  "language_info": {
   "codemirror_mode": {
    "name": "ipython",
    "version": 3
   },
   "file_extension": ".py",
   "mimetype": "text/x-python",
   "name": "python",
   "nbconvert_exporter": "python",
   "pygments_lexer": "ipython3",
   "version": "3.9.13"
  }
 },
 "nbformat": 4,
 "nbformat_minor": 5
}
