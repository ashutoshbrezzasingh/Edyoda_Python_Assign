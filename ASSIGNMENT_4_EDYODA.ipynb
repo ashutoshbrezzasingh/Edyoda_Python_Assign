{
 "cells": [
  {
   "cell_type": "markdown",
   "id": "faff7f75",
   "metadata": {},
   "source": [
    "### ASSIGNMENT -4"
   ]
  },
  {
   "cell_type": "markdown",
   "id": "162e9935",
   "metadata": {},
   "source": [
    "### Write a Python program to create a lambda function that adds 25 to a given number passed in as an argument.\n",
    "\n",
    "\n",
    "\n",
    "sample input: 10\n",
    "\n",
    "sample output: 35"
   ]
  },
  {
   "cell_type": "code",
   "execution_count": 27,
   "id": "21117401",
   "metadata": {},
   "outputs": [
    {
     "name": "stdout",
     "output_type": "stream",
     "text": [
      "Enter the number:10\n",
      "35\n"
     ]
    }
   ],
   "source": [
    "n= int(input(\"Enter the number:\"))\n",
    "r = lambda n : n + 25\n",
    "print(r(10))\n",
    "#r = lambda x, y : x * y\n",
    "#print(r(12, 4))\n"
   ]
  },
  {
   "cell_type": "markdown",
   "id": "4af41eb9",
   "metadata": {},
   "source": [
    "### Write a Python program to triple all numbers of a given list of integers. Use Python map.\n",
    "\n",
    "\n",
    "\n",
    "sample list: [1, 2, 3, 4, 5, 6, 7]\n",
    "\n",
    "\n",
    "\n",
    "Triple of list numbers:\n",
    "\n",
    "[3, 6, 9, 12, 15, 18, 21]"
   ]
  },
  {
   "cell_type": "code",
   "execution_count": 3,
   "id": "505ed995",
   "metadata": {},
   "outputs": [
    {
     "name": "stdout",
     "output_type": "stream",
     "text": [
      "Original list:  (1, 2, 3, 4, 5, 6, 7)\n",
      "\n",
      "Triple of  list numbers:\n",
      "[3, 6, 9, 12, 15, 18, 21]\n"
     ]
    }
   ],
   "source": [
    "numbers = (1, 2, 3, 4, 5, 6, 7) \n",
    "print(\"Original list: \", numbers)\n",
    "result = map(lambda x: x + x + x, numbers) \n",
    "print(\"\\nTriple of  list numbers:\")\n",
    "print(list(result))\n"
   ]
  },
  {
   "cell_type": "code",
   "execution_count": 4,
   "id": "1b03b8e8",
   "metadata": {},
   "outputs": [
    {
     "name": "stdout",
     "output_type": "stream",
     "text": [
      "Enter total numbers that u want to give 7\n",
      "enter number1\n",
      "enter number2\n",
      "enter number3\n",
      "enter number4\n",
      "enter number5\n",
      "enter number6\n",
      "enter number7\n",
      "Original list:  [1, 2, 3, 4, 5, 6, 7]\n",
      "\n",
      "Triple of  list numbers:\n",
      "[3, 6, 9, 12, 15, 18, 21]\n"
     ]
    }
   ],
   "source": [
    "n = int(input(\"Enter total numbers that u want to give \"))\n",
    "l = []\n",
    "for i in range(0, n):\n",
    "    z = int(input(\"enter number\"))\n",
    "    l.append(z)\n",
    "print(\"Original list: \", l)\n",
    "result = map(lambda x: x + x + x, l) \n",
    "print(\"\\nTriple of  list numbers:\")\n",
    "print(list(result))"
   ]
  },
  {
   "cell_type": "markdown",
   "id": "ca9b7e7a",
   "metadata": {},
   "source": [
    "### Write a Python program to square the elements of a list using map() function.\n",
    "\n",
    "\n",
    "\n",
    "Sample List: [4, 5, 2, 9]\n",
    "\n",
    "Square the elements of the list:\n",
    "\n",
    "[16, 25, 4, 81]\n",
    "\n"
   ]
  },
  {
   "cell_type": "markdown",
   "id": "04b10e17",
   "metadata": {},
   "source": [
    "##### "
   ]
  },
  {
   "cell_type": "code",
   "execution_count": 2,
   "id": "47850e4f",
   "metadata": {},
   "outputs": [
    {
     "name": "stdout",
     "output_type": "stream",
     "text": [
      "Enter total numbers that u want to give 4\n",
      "enter number4\n",
      "enter number5\n",
      "enter number2\n",
      "enter number9\n",
      "Square the elements of the list:\n",
      "[16, 25, 4, 81]\n"
     ]
    }
   ],
   "source": [
    "n = int(input(\"Enter total numbers that u want to give \"))\n",
    "l = []\n",
    "for i in range(0, n):\n",
    "    z = int(input(\"enter number\"))\n",
    "    l.append(z)\n",
    "\n",
    "\n",
    "def square_num(n):\n",
    "    return n * n\n",
    "result =list(map(square_num, l))\n",
    "print(\"Square the elements of the list:\")\n",
    "print(list(result))\n"
   ]
  },
  {
   "cell_type": "code",
   "execution_count": null,
   "id": "ad6f7358",
   "metadata": {},
   "outputs": [],
   "source": []
  }
 ],
 "metadata": {
  "kernelspec": {
   "display_name": "Python 3 (ipykernel)",
   "language": "python",
   "name": "python3"
  },
  "language_info": {
   "codemirror_mode": {
    "name": "ipython",
    "version": 3
   },
   "file_extension": ".py",
   "mimetype": "text/x-python",
   "name": "python",
   "nbconvert_exporter": "python",
   "pygments_lexer": "ipython3",
   "version": "3.9.13"
  }
 },
 "nbformat": 4,
 "nbformat_minor": 5
}
