{
 "cells": [
  {
   "cell_type": "markdown",
   "id": "a1d6b00a",
   "metadata": {},
   "source": [
    "# Linear Data Structures\n"
   ]
  },
  {
   "cell_type": "code",
   "execution_count": null,
   "id": "04370f3f",
   "metadata": {},
   "outputs": [],
   "source": [
    "Q1. Write a program to find all pairs of an integer array whose sum is equal to a given number?"
   ]
  },
  {
   "cell_type": "code",
   "execution_count": 1,
   "id": "704414cf",
   "metadata": {},
   "outputs": [
    {
     "name": "stdout",
     "output_type": "stream",
     "text": [
      "Array=  [5, 2, 3, 4, 1, 6, 7]\n",
      "Pairs whose sum is :  7\n",
      "5 2\n",
      "3 4\n",
      "1 6\n"
     ]
    }
   ],
   "source": [
    "def find(array, len, summ):\n",
    "    print(\"Pairs whose sum is : \", summ)\n",
    "    for i in range(len):\n",
    "        for j in range(i, len):\n",
    "            if (array[i] + array[j]) == summ:\n",
    "                print(array[i], array[j])\n",
    "\n",
    "\n",
    "array = [5, 2, 3, 4, 1, 6, 7]\n",
    "\n",
    "# Take sum as input from user\n",
    "summ = 7\n",
    "\n",
    "# print array\n",
    "print(\"Array= \", array)\n",
    "\n",
    "# call function find\n",
    "find(array, len(array), summ)"
   ]
  },
  {
   "cell_type": "markdown",
   "id": "001e087b",
   "metadata": {},
   "source": [
    "Q2. Write a program to reverse an array in place? In place means you cannot create a new array. You have to update the original array."
   ]
  },
  {
   "cell_type": "code",
   "execution_count": 2,
   "id": "7fd75203",
   "metadata": {},
   "outputs": [
    {
     "name": "stdout",
     "output_type": "stream",
     "text": [
      "[50, 40, 30, 20, 10]\n"
     ]
    }
   ],
   "source": [
    "def reverseList(A, start, end):\n",
    "  while start < end:\n",
    "    A[start], A[end] = A[end], A[start]\n",
    "    start += 1\n",
    "    end -= 1\n",
    "# Driver function to test above function\n",
    "A = [10, 20, 30, 40, 50]\n",
    "reverseList(A, 0, 4)\n",
    "print(A)"
   ]
  },
  {
   "cell_type": "code",
   "execution_count": null,
   "id": "a4268e4a",
   "metadata": {},
   "outputs": [],
   "source": [
    "using slicling"
   ]
  },
  {
   "cell_type": "code",
   "execution_count": 3,
   "id": "d27aec1d",
   "metadata": {},
   "outputs": [
    {
     "name": "stdout",
     "output_type": "stream",
     "text": [
      "[50, 40, 30, 20, 10]\n"
     ]
    }
   ],
   "source": [
    "def reverseList(A):\n",
    "  print( A[::-1])\n",
    "\n",
    "# Driver function to test above function\n",
    "A = [10, 20, 30, 40, 50]\n",
    "reverseList(A)"
   ]
  },
  {
   "cell_type": "markdown",
   "id": "d7261582",
   "metadata": {},
   "source": [
    "Q3. Write a program to check if two strings are a rotation of each other?"
   ]
  },
  {
   "cell_type": "code",
   "execution_count": 4,
   "id": "eed4377d",
   "metadata": {},
   "outputs": [
    {
     "name": "stdout",
     "output_type": "stream",
     "text": [
      "True\n"
     ]
    }
   ],
   "source": [
    "def solve(s, t):\n",
    "   if len(s) != len(t):\n",
    "      return False\n",
    " \n",
    "   temp = s + s\n",
    " \n",
    "   if temp.count(t)> 0:\n",
    "      return True\n",
    "   return False\n",
    "\n",
    "s = \"hello\"\n",
    "t = \"llohe\"\n",
    "print(solve(s, t))"
   ]
  },
  {
   "cell_type": "markdown",
   "id": "5de27a7d",
   "metadata": {},
   "source": [
    "Q4. Write a program to print the first non-repeated character from a string?"
   ]
  },
  {
   "cell_type": "code",
   "execution_count": 6,
   "id": "94b39cc4",
   "metadata": {},
   "outputs": [
    {
     "name": "stdout",
     "output_type": "stream",
     "text": [
      "A u t o "
     ]
    }
   ],
   "source": [
    "#take user input\n",
    "String = \"Ashutosh\"\n",
    "for i in String:\n",
    "    #initialize a count variable\n",
    "    count = 0\n",
    "    for j in String:\n",
    "        #check for repeated characters\n",
    "        if i == j:\n",
    "            count+=1\n",
    "        #if character is found more than 1 time\n",
    "        #brerak the loop\n",
    "        if count > 1:\n",
    "            break\n",
    "    #print for nonrepeating characters\n",
    "    if count == 1:\n",
    "        print(i,end = \" \")"
   ]
  },
  {
   "cell_type": "code",
   "execution_count": null,
   "id": "1be54393",
   "metadata": {},
   "outputs": [],
   "source": [
    "Q5. Read about the Tower of Hanoi algorithm. Write a program to implement it."
   ]
  },
  {
   "cell_type": "markdown",
   "id": "375191bc",
   "metadata": {},
   "source": [
    "Tower of Hanoi is a mathematical puzzle where we have three rods and n disks. The objective of the puzzle is to move the entire stack to another rod, obeying the following simple rules: \n",
    "1) Only one disk can be moved at a time. \n",
    "2) Each move consists of taking the upper disk from one of the stacks and placing it on top of another stack i.e. a disk can only be moved if it is the uppermost disk on a stack. \n",
    "3) No disk may be placed on top of a smaller disk.\n",
    "Note: Transferring the top n-1 disks from source rod to Auxiliary rod can again be thought of as a fresh problem and can be solved in the same manner."
   ]
  },
  {
   "cell_type": "code",
   "execution_count": 7,
   "id": "cae6860d",
   "metadata": {},
   "outputs": [
    {
     "name": "stdout",
     "output_type": "stream",
     "text": [
      "Move disk 1 from peg  A  to peg B\n",
      "Move disk 2  from peg  A  to peg C\n",
      "Move disk 1 from peg B  to peg C\n",
      "Move disk 3  from peg  A  to peg B\n",
      "Move disk 1 from peg C  to peg  A\n",
      "Move disk 2  from peg C  to peg B\n",
      "Move disk 1 from peg  A  to peg B\n"
     ]
    }
   ],
   "source": [
    "def tower_of_hanoi(n, source, destination, helper):\n",
    "\tif n==1:\n",
    "\t\tprint (\"Move disk 1 from peg\", source,\" to peg\", destination)\n",
    "\t\treturn\n",
    "\ttower_of_hanoi(n-1, source, helper, destination)\n",
    "\tprint (\"Move disk\",n,\" from peg\", source,\" to peg\", destination)\n",
    "\ttower_of_hanoi(n-1, helper, destination, source)\t\t\n",
    "# n = number of disks\n",
    "n = 3\n",
    "tower_of_hanoi(n,' A','B','C')"
   ]
  },
  {
   "cell_type": "markdown",
   "id": "54e3e920",
   "metadata": {},
   "source": [
    "Q6. Read about infix, prefix, and postfix expressions. Write a program to convert postfix to prefix expression."
   ]
  },
  {
   "cell_type": "code",
   "execution_count": 8,
   "id": "ef049e18",
   "metadata": {},
   "outputs": [
    {
     "name": "stdout",
     "output_type": "stream",
     "text": [
      "Prefix :  +AB-CD\n"
     ]
    }
   ],
   "source": [
    "# Python3 Program to convert postfix to prefix\n",
    "\n",
    "# function to check if\n",
    "# character is operator or not\n",
    "\n",
    "\n",
    "def isOperator(x):\n",
    "\n",
    "\tif x == \"+\":\n",
    "\t\treturn True\n",
    "\n",
    "\tif x == \"-\":\n",
    "\t\treturn True\n",
    "\n",
    "\tif x == \"/\":\n",
    "\t\treturn True\n",
    "\n",
    "\tif x == \"*\":\n",
    "\t\treturn True\n",
    "\n",
    "\treturn False\n",
    "\n",
    "# Convert postfix to Prefix expression\n",
    "\n",
    "\n",
    "def postToPre(post_exp):\n",
    "\n",
    "\ts = []\n",
    "\n",
    "\t# length of expression\n",
    "\tlength = len(post_exp)\n",
    "\n",
    "\t# reading from right to left\n",
    "\tfor i in range(length):\n",
    "\n",
    "\t\t# check if symbol is operator\n",
    "\t\tif (isOperator(post_exp[i])):\n",
    "\n",
    "\t\t\t# pop two operands from stack\n",
    "\t\t\top1 = s[-1]\n",
    "\t\t\ts.pop()\n",
    "\t\t\top2 = s[-1]\n",
    "\t\t\ts.pop()\n",
    "\n",
    "\t\t\t# concat the operands and operator\n",
    "\t\t\ttemp = post_exp[i] + op2 + op1\n",
    "\n",
    "\t\t\t# Push string temp back to stack\n",
    "\t\t\ts.append(temp)\n",
    "\n",
    "\t\t# if symbol is an operand\n",
    "\t\telse:\n",
    "\n",
    "\t\t\t# push the operand to the stack\n",
    "\t\t\ts.append(post_exp[i])\n",
    "\n",
    "\t\n",
    "\tans = \"\"\n",
    "\tfor i in s:\n",
    "\t\tans += i\n",
    "\treturn ans\n",
    "\n",
    "\n",
    "# Driver Code\n",
    "if __name__ == \"__main__\":\n",
    "\n",
    "\tpost_exp = \"AB+CD-\"\n",
    "\t\n",
    "\t# Function call\n",
    "\tprint(\"Prefix : \", postToPre(post_exp))\n",
    "\n",
    "# This code is contributed by AnkitRai01\n"
   ]
  },
  {
   "cell_type": "code",
   "execution_count": null,
   "id": "4f6b29d5",
   "metadata": {},
   "outputs": [],
   "source": [
    "Q7. Write a program to convert prefix expression to infix expression."
   ]
  },
  {
   "cell_type": "code",
   "execution_count": null,
   "id": "5b7ff2f5",
   "metadata": {},
   "outputs": [],
   "source": [
    "# Python Program to convert prefix to Infix\n",
    "def prefixToInfix(prefix):\n",
    "    stack = []\n",
    "     \n",
    "    # read prefix in reverse order\n",
    "    i = len(prefix) - 1\n",
    "    while i >= 0:\n",
    "        if not isOperator(prefix[i]):\n",
    "             \n",
    "            # symbol is operand\n",
    "            stack.append(prefix[i])\n",
    "            i -= 1\n",
    "        else:\n",
    "           \n",
    "            # symbol is operator\n",
    "            str = \"(\" + stack.pop() + prefix[i] + stack.pop() + \")\"\n",
    "            stack.append(str)\n",
    "            i -= 1\n",
    "     \n",
    "    return stack.pop()\n",
    " \n",
    "def isOperator(c):\n",
    "    if c == \"*\" or c == \"+\" or c == \"-\" or c == \"/\" or c == \"^\" or c == \"(\" or c == \")\":\n",
    "        return True\n",
    "    else:\n",
    "        return False\n",
    " \n",
    "# Driver code\n",
    "if __name__==\"__main__\":\n",
    "    str = \"*-A/BC-/AKL\"\n",
    "    print(prefixToInfix(str))\n",
    "     \n",
    "# This code is contributed by avishekarora"
   ]
  },
  {
   "cell_type": "code",
   "execution_count": null,
   "id": "7a4436d2",
   "metadata": {},
   "outputs": [],
   "source": [
    "Q8. Write a program to check if all the brackets are closed in a given code snippet."
   ]
  },
  {
   "cell_type": "code",
   "execution_count": null,
   "id": "fd0cc959",
   "metadata": {},
   "outputs": [],
   "source": [
    "def isbalanced(s):\n",
    "  c= 0\n",
    "  ans=False\n",
    "  for i in s:\n",
    "    if i == \"(\": \n",
    "     c += 1\n",
    "    elif i == \")\":\n",
    "     c-= 1\n",
    "    if c < 0:\n",
    "     return ans\n",
    "    if c==0:\n",
    "     return not ans\n",
    "  return ans\n",
    "s=\"{[]}\"\n",
    "print(\"Given string is balanced :\",isbalanced(s)"
   ]
  },
  {
   "cell_type": "code",
   "execution_count": null,
   "id": "ee7f2378",
   "metadata": {},
   "outputs": [],
   "source": [
    "Q9. Write a program to reverse a stack"
   ]
  },
  {
   "cell_type": "code",
   "execution_count": 9,
   "id": "381de103",
   "metadata": {},
   "outputs": [
    {
     "name": "stdout",
     "output_type": "stream",
     "text": [
      "Original Stack\n",
      "5\n",
      "4\n",
      "3\n",
      "2\n",
      "1\n",
      "\n",
      "Stack after Reversing\n",
      "1\n",
      "2\n",
      "3\n",
      "4\n",
      "5\n"
     ]
    }
   ],
   "source": [
    "# create class for stack\n",
    "class Stack:\n",
    "\n",
    "\t# create empty list\n",
    "\tdef __init__(self):\n",
    "\t\tself.Elements = []\n",
    "\t\t\n",
    "\t# push() for insert an element\n",
    "\tdef push(self, value):\n",
    "\t\tself.Elements.append(value)\n",
    "\t\n",
    "\t# pop() for remove an element\n",
    "\tdef pop(self):\n",
    "\t\treturn self.Elements.pop()\n",
    "\t\n",
    "\t# empty() check the stack is empty of not\n",
    "\tdef empty(self):\n",
    "\t\treturn self.Elements == []\n",
    "\t\n",
    "\t# show() display stack\n",
    "\tdef show(self):\n",
    "\t\tfor value in reversed(self.Elements):\n",
    "\t\t\tprint(value)\n",
    "\n",
    "# Insert_Bottom() insert value at bottom\n",
    "def BottomInsert(s, value):\n",
    "\n",
    "\t# check the stack is empty or not\n",
    "\tif s.empty():\n",
    "\t\t\n",
    "\t\t# if stack is empty then call\n",
    "\t\t# push() method.\n",
    "\t\ts.push(value)\n",
    "\t\t\n",
    "\t# if stack is not empty then execute\n",
    "\t# else block\n",
    "\telse:\n",
    "\t\tpopped = s.pop()\n",
    "\t\tBottomInsert(s, value)\n",
    "\t\ts.push(popped)\n",
    "\n",
    "# Reverse() reverse the stack\n",
    "def Reverse(s):\n",
    "\tif s.empty():\n",
    "\t\tpass\n",
    "\telse:\n",
    "\t\tpopped = s.pop()\n",
    "\t\tReverse(s)\n",
    "\t\tBottomInsert(s, popped)\n",
    "\n",
    "\n",
    "# create object of stack class\n",
    "stk = Stack()\n",
    "\n",
    "stk.push(1)\n",
    "stk.push(2)\n",
    "stk.push(3)\n",
    "stk.push(4)\n",
    "stk.push(5)\n",
    "\n",
    "print(\"Original Stack\")\n",
    "stk.show()\n",
    "\n",
    "print(\"\\nStack after Reversing\")\n",
    "Reverse(stk)\n",
    "stk.show()\n"
   ]
  },
  {
   "cell_type": "code",
   "execution_count": null,
   "id": "3335641d",
   "metadata": {},
   "outputs": [],
   "source": [
    "Q10. Write a program to find the smallest number using a stack."
   ]
  },
  {
   "cell_type": "code",
   "execution_count": 10,
   "id": "293c1925",
   "metadata": {},
   "outputs": [
    {
     "name": "stdout",
     "output_type": "stream",
     "text": [
      "smallest element is 1\n",
      "second smallest element is 9\n"
     ]
    }
   ],
   "source": [
    "# Python3 simple approach to print smallest\n",
    "# and second smallest element.\n",
    " \n",
    "# driver code\n",
    " \n",
    "arr = [111, 13, 25, 9, 34, 1]\n",
    "n = len(arr)\n",
    "# sorting the array using\n",
    "# in-built sort function\n",
    "arr.sort()\n",
    " \n",
    "# printing the desired element\n",
    "print(\"smallest element is \"+str(arr[0]))\n",
    "print(\"second smallest element is \"+str(arr[1]))\n",
    " \n",
    "# This code is contributed by shinjanpatra"
   ]
  },
  {
   "cell_type": "code",
   "execution_count": null,
   "id": "648b9bb0",
   "metadata": {},
   "outputs": [],
   "source": []
  }
 ],
 "metadata": {
  "kernelspec": {
   "display_name": "Python 3 (ipykernel)",
   "language": "python",
   "name": "python3"
  },
  "language_info": {
   "codemirror_mode": {
    "name": "ipython",
    "version": 3
   },
   "file_extension": ".py",
   "mimetype": "text/x-python",
   "name": "python",
   "nbconvert_exporter": "python",
   "pygments_lexer": "ipython3",
   "version": "3.9.13"
  }
 },
 "nbformat": 4,
 "nbformat_minor": 5
}
